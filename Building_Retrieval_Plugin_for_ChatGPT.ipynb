{
 "cells": [
  {
   "cell_type": "markdown",
   "id": "592079d8-46ae-44fd-a037-1daade7564db",
   "metadata": {},
   "source": [
    "## 1. Install Dependencies and Import Libraries"
   ]
  },
  {
   "cell_type": "code",
   "execution_count": 1,
   "id": "00ea8fd3-f526-429a-ad12-d7e94c8e8a10",
   "metadata": {
    "tags": []
   },
   "outputs": [
    {
     "name": "stderr",
     "output_type": "stream",
     "text": [
      "/Users/a06790/opt/anaconda3/envs/orca_env/lib/python3.10/site-packages/pinecone/index.py:4: TqdmWarning: IProgress not found. Please update jupyter and ipywidgets. See https://ipywidgets.readthedocs.io/en/stable/user_install.html\n",
      "  from tqdm.autonotebook import tqdm\n"
     ]
    }
   ],
   "source": [
    "import os\n",
    "from typing import Dict, List, Optional, Tuple\n",
    "\n",
    "import openai\n",
    "import pinecone\n",
    "import pandas as pd\n",
    "import numpy as np\n",
    "import textwrap\n",
    "\n",
    "from langchain.docstore.document import Document\n",
    "from langchain.chat_models import ChatOpenAI\n",
    "from langchain.embeddings.openai import OpenAIEmbeddings\n",
    "from langchain.chains import RetrievalQA\n",
    "from langchain.vectorstores import Pinecone"
   ]
  },
  {
   "cell_type": "markdown",
   "id": "8daf20f6-786f-4d0e-bf19-b7edbccc6855",
   "metadata": {},
   "source": [
    "## 2. Configure Your OpenAI API Key"
   ]
  },
  {
   "cell_type": "code",
   "execution_count": 2,
   "id": "1cbcc807-5a8c-4337-a221-bb9592015a0e",
   "metadata": {
    "tags": []
   },
   "outputs": [],
   "source": [
    "OPENAI_API_KEY = os.environ.get(\"OPENAI_API_KEY\")\n",
    "EMBEDDING_MODEL = \"text-embedding-ada-002\"\n",
    "GPT_MODEL = \"gpt-3.5-turbo\"\n",
    "\n",
    "openai.api_key = OPENAI_API_KEY"
   ]
  },
  {
   "cell_type": "markdown",
   "id": "37a95e0f-bd80-465f-b84d-b2c0d391e590",
   "metadata": {},
   "source": [
    "## 3. Configure Your Pinecone API Key and Environment"
   ]
  },
  {
   "cell_type": "code",
   "execution_count": 3,
   "id": "404fda3b-6346-465b-a59c-c88d347ccaab",
   "metadata": {
    "tags": []
   },
   "outputs": [],
   "source": [
    "PINECONE_API_KEY = os.environ.get(\"PINECONE_API_KEY\")\n",
    "PINECONE_ENVIRONMENT = os.environ.get(\"PINECONE_ENVIRONMENT\")\n",
    "PINECONE_INDEX = os.environ.get(\"PINECONE_INDEX\")\n",
    "\n",
    "pinecone.init(api_key=PINECONE_API_KEY, environment=PINECONE_ENVIRONMENT)"
   ]
  },
  {
   "cell_type": "markdown",
   "id": "b1441c6d-9eec-44fb-8179-efd1a3f34855",
   "metadata": {},
   "source": [
    "## 4. Run Your Question-Answering Service"
   ]
  },
  {
   "cell_type": "code",
   "execution_count": 4,
   "id": "fbec2118-6b66-43d2-afba-c02e9ccc4c95",
   "metadata": {
    "tags": []
   },
   "outputs": [],
   "source": [
    "class OpenAIEmbeddingsWrapper(OpenAIEmbeddings):\n",
    "    query_text_to_embedding: Dict[str, List[float]] = {}\n",
    "    document_text_to_embedding: Dict[str, List[float]] = {}\n",
    "\n",
    "    def embed_query(self, text: str) -> List[float]:\n",
    "        embedding = super().embed_query(text)\n",
    "        self.query_text_to_embedding[text] = embedding\n",
    "        return embedding\n",
    "\n",
    "    def embed_documents(self, texts: List[str], chunk_size: Optional[int] = 0) -> List[List[float]]:\n",
    "        embeddings = super().embed_documents(texts, chunk_size)\n",
    "        for text, embedding in zip(texts, embeddings):\n",
    "            self.document_text_to_embedding[text] = embedding\n",
    "        return embeddings\n",
    "\n",
    "    @property\n",
    "    def query_embedding_dataframe(self) -> pd.DataFrame:\n",
    "        return self._convert_text_to_embedding_map_to_dataframe(self.query_text_to_embedding)\n",
    "\n",
    "    @property\n",
    "    def document_embedding_dataframe(self) -> pd.DataFrame:\n",
    "        return self._convert_text_to_embedding_map_to_dataframe(self.document_text_to_embedding)\n",
    "\n",
    "    @staticmethod\n",
    "    def _convert_text_to_embedding_map_to_dataframe(\n",
    "        text_to_embedding: Dict[str, List[float]]\n",
    "    ) -> pd.DataFrame:\n",
    "        texts, embeddings = map(list, zip(*text_to_embedding.items()))\n",
    "        embedding_arrays = [np.array(embedding) for embedding in embeddings]\n",
    "        return pd.DataFrame.from_dict(\n",
    "            {\n",
    "                \"text\": texts,\n",
    "                \"text_vector\": embedding_arrays,\n",
    "            }\n",
    "        )"
   ]
  },
  {
   "cell_type": "code",
   "execution_count": 5,
   "id": "4b1ffb00-f2fd-4721-9a12-ebf587bdbb28",
   "metadata": {
    "tags": []
   },
   "outputs": [],
   "source": [
    "class PineconeWrapper(Pinecone):\n",
    "    query_text_to_document_score_tuples: Dict[str, List[Tuple[Document, float]]] = {}\n",
    "\n",
    "    def similarity_search_with_score(\n",
    "        self,\n",
    "        query: str,\n",
    "        k: int = 4,\n",
    "        filter: Optional[dict] = None,\n",
    "        namespace: Optional[str] = None,\n",
    "    ) -> List[Tuple[Document, float]]:\n",
    "        document_score_tuples = super().similarity_search_with_score(\n",
    "            query=query,\n",
    "            k=k,\n",
    "            filter=filter,\n",
    "            namespace=namespace,\n",
    "        )\n",
    "        self.query_text_to_document_score_tuples[query] = document_score_tuples\n",
    "        return document_score_tuples\n",
    "\n",
    "    @property\n",
    "    def retrieval_dataframe(self) -> pd.DataFrame:\n",
    "        query_texts = []\n",
    "        document_texts = []\n",
    "        retrieval_ranks = []\n",
    "        scores = []\n",
    "        for query_text, document_score_tuples in self.query_text_to_document_score_tuples.items():\n",
    "            for retrieval_rank, (document, score) in enumerate(document_score_tuples):\n",
    "                query_texts.append(query_text)\n",
    "                document_texts.append(document.page_content)\n",
    "                retrieval_ranks.append(retrieval_rank)\n",
    "                scores.append(score)\n",
    "        return pd.DataFrame.from_dict(\n",
    "            {\n",
    "                \"query_text\": query_texts,\n",
    "                \"document_text\": document_texts,\n",
    "                \"retrieval_rank\": retrieval_ranks,\n",
    "                \"score\": scores,\n",
    "            }\n",
    "        )"
   ]
  },
  {
   "cell_type": "code",
   "execution_count": 6,
   "id": "89fb309b-d90c-4703-a932-df2da5d3cddc",
   "metadata": {
    "tags": []
   },
   "outputs": [],
   "source": [
    "num_retrieved_documents = 2\n",
    "embeddings = OpenAIEmbeddingsWrapper(model=EMBEDDING_MODEL)\n",
    "docsearch = PineconeWrapper.from_existing_index(\n",
    "    index_name=PINECONE_INDEX,\n",
    "    embedding=embeddings,\n",
    ")\n",
    "llm = ChatOpenAI(model_name=GPT_MODEL)\n",
    "chain = RetrievalQA.from_chain_type(\n",
    "    llm=llm,\n",
    "    chain_type=\"stuff\",\n",
    "    retriever=docsearch.as_retriever(search_kwargs={\"k\": num_retrieved_documents}),\n",
    ")"
   ]
  },
  {
   "cell_type": "code",
   "execution_count": 11,
   "id": "429ea8ed-4ba8-498f-a99d-de8db8ca2690",
   "metadata": {
    "tags": []
   },
   "outputs": [
    {
     "name": "stdout",
     "output_type": "stream",
     "text": [
      "Response\n",
      "========\n",
      "\n",
      "네, 가족 간의 명의변경은 가능합니다. 하지만 개인회생 중인 경우에는 명의변경이 제한됩니다. 따라서, 개인회생 중이 아니라면 가족으로서\n",
      "명의변경을 신청할 수 있을 것입니다.\n",
      "\n",
      "Retrieved Context 0\n",
      "===================\n",
      "\n",
      "명의변경 외에도 특별한 사례로 가족 간 명의변경이 허용될 수 있습니다. 양도인이 개인회생 중인 경우에는 명의변경이 제한됩니다. 업무 처리 시\n",
      "SMS 발송:  양도인에게는 양도인이 보유한 사용 중인 SKT 회선으로 SMS가 발송됩니다. 양수인에게는 명의가 변경된 회선으로 SMS가\n",
      "발송됩니다. FAQ:  2016년 3월 17일부터 친구 명의로의 변경은 불가능합니다. 가족 간만 가능합니다. 명의변경 제한 관련 내용은\n",
      "'이용약관'\n",
      "\n",
      "score: 0.828158379\n",
      "\n",
      "Retrieved Context 1\n",
      "===================\n",
      "\n",
      "을 통해 업무를 처리할 수 있습니다. 기타: 개인회생 중인 경우 명의변경이 제한됩니다.\n",
      "\n",
      "score: 0.823480189\n",
      "\n",
      "Query Embedding\n",
      "===============\n",
      "\n",
      "[-0.00910919 -0.02915456  0.01682885 ... -0.01017065  0.00894837\n",
      " -0.01801253]\n",
      "\n",
      "dimension: 1536\n"
     ]
    }
   ],
   "source": [
    "query_text = \"아는사람에게 명변할 수 있어?\"\n",
    "# query_text = \"유심기변상태로 단말기변경이력조회에서는 사용중/교반품신청등록으로 상태가 보여지는것으로 확정기변이 가능한가요?\"\n",
    "\n",
    "response_text = chain.run(query_text)\n",
    "retrievals_df = docsearch.retrieval_dataframe.tail(num_retrieved_documents)\n",
    "contexts = retrievals_df[\"document_text\"].to_list()\n",
    "scores = retrievals_df[\"score\"].to_list()\n",
    "query_embedding = embeddings.query_embedding_dataframe[\"text_vector\"].iloc[-1]\n",
    "\n",
    "print(\"Response\")\n",
    "print(\"========\")\n",
    "print()\n",
    "for line in textwrap.wrap(response_text.strip(), width=80):\n",
    "    print(line)\n",
    "print()\n",
    "\n",
    "for context_index, (context, score) in enumerate(zip(contexts, scores)):\n",
    "    print(f\"Retrieved Context {context_index}\")\n",
    "    print(\"===================\")\n",
    "    print()\n",
    "\n",
    "    for line in textwrap.wrap(context.strip(), width=80):\n",
    "        print(line)\n",
    "    print()\n",
    "    print(f\"score: {score}\")\n",
    "    print()\n",
    "\n",
    "print(\"Query Embedding\")\n",
    "print(\"===============\")\n",
    "print()\n",
    "\n",
    "print(query_embedding)\n",
    "print()\n",
    "print(f\"dimension: {len(query_embedding)}\")"
   ]
  },
  {
   "cell_type": "code",
   "execution_count": null,
   "id": "2e3c52e5-c637-4d20-bd33-4526d084119a",
   "metadata": {},
   "outputs": [],
   "source": []
  }
 ],
 "metadata": {
  "kernelspec": {
   "display_name": "orca_env",
   "language": "python",
   "name": "orca_env"
  },
  "language_info": {
   "codemirror_mode": {
    "name": "ipython",
    "version": 3
   },
   "file_extension": ".py",
   "mimetype": "text/x-python",
   "name": "python",
   "nbconvert_exporter": "python",
   "pygments_lexer": "ipython3",
   "version": "3.10.12"
  }
 },
 "nbformat": 4,
 "nbformat_minor": 5
}
